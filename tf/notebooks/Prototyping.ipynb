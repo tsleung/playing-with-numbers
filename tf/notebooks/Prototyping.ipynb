{
 "cells": [
  {
   "cell_type": "code",
   "execution_count": 40,
   "metadata": {},
   "outputs": [],
   "source": [
    "import tensorflow as tf\n",
    "import pandas as pd\n",
    "import numpy as np\n",
    "from tensorflow import keras\n",
    "import seaborn as sns\n",
    "import matplotlib.pyplot as plt\n",
    "from tensorflow.keras import layers\n"
   ]
  },
  {
   "cell_type": "code",
   "execution_count": 2,
   "metadata": {},
   "outputs": [],
   "source": [
    "dataset_path = keras.utils.get_file(\"GOOG.csv\", \"http://localhost:8000/data/daily/GOOG.csv\")\n",
    "\n",
    "column_names = ['Date','Open','High','Low','Close','Adj Close','Volume'] \n",
    "raw_dataset = pd.read_csv(dataset_path, \n",
    "#                           names=column_names, \n",
    "                          dtype={'Close': np.float64,'Open': np.float64,'High': np.float64,'Adj Close': np.float64, 'Volume': np.float64},\n",
    "                          header=0,\n",
    "                          na_values = \"?\", \n",
    "                          comment='\\t',\n",
    "                          sep=\",\",\n",
    "                          skipinitialspace=True)\n",
    "\n",
    "\n",
    "dataset = raw_dataset.copy()\n",
    "dataset = dataset.sort_values(by=['Date'],ascending=False)\n",
    "test_dataset = dataset[0:700]\n",
    "train_dataset = dataset[700:]"
   ]
  },
  {
   "cell_type": "code",
   "execution_count": 3,
   "metadata": {},
   "outputs": [
    {
     "name": "stdout",
     "output_type": "stream",
     "text": [
      "3534\n",
      "2834\n",
      "700\n"
     ]
    },
    {
     "data": {
      "text/html": [
       "<div>\n",
       "<style scoped>\n",
       "    .dataframe tbody tr th:only-of-type {\n",
       "        vertical-align: middle;\n",
       "    }\n",
       "\n",
       "    .dataframe tbody tr th {\n",
       "        vertical-align: top;\n",
       "    }\n",
       "\n",
       "    .dataframe thead th {\n",
       "        text-align: right;\n",
       "    }\n",
       "</style>\n",
       "<table border=\"1\" class=\"dataframe\">\n",
       "  <thead>\n",
       "    <tr style=\"text-align: right;\">\n",
       "      <th></th>\n",
       "      <th>Date</th>\n",
       "      <th>Open</th>\n",
       "      <th>High</th>\n",
       "      <th>Low</th>\n",
       "      <th>Close</th>\n",
       "      <th>Adj Close</th>\n",
       "      <th>Volume</th>\n",
       "    </tr>\n",
       "  </thead>\n",
       "  <tbody>\n",
       "    <tr>\n",
       "      <th>2833</th>\n",
       "      <td>2015-11-18</td>\n",
       "      <td>727.580017</td>\n",
       "      <td>741.409973</td>\n",
       "      <td>727.000000</td>\n",
       "      <td>740.000000</td>\n",
       "      <td>740.000000</td>\n",
       "      <td>1684300.0</td>\n",
       "    </tr>\n",
       "    <tr>\n",
       "      <th>2832</th>\n",
       "      <td>2015-11-17</td>\n",
       "      <td>729.289978</td>\n",
       "      <td>731.844971</td>\n",
       "      <td>723.026978</td>\n",
       "      <td>725.299988</td>\n",
       "      <td>725.299988</td>\n",
       "      <td>1510900.0</td>\n",
       "    </tr>\n",
       "    <tr>\n",
       "      <th>2831</th>\n",
       "      <td>2015-11-16</td>\n",
       "      <td>715.599976</td>\n",
       "      <td>729.489990</td>\n",
       "      <td>711.330017</td>\n",
       "      <td>728.960022</td>\n",
       "      <td>728.960022</td>\n",
       "      <td>1905900.0</td>\n",
       "    </tr>\n",
       "    <tr>\n",
       "      <th>2830</th>\n",
       "      <td>2015-11-13</td>\n",
       "      <td>729.169983</td>\n",
       "      <td>731.150024</td>\n",
       "      <td>716.729980</td>\n",
       "      <td>717.000000</td>\n",
       "      <td>717.000000</td>\n",
       "      <td>2075500.0</td>\n",
       "    </tr>\n",
       "    <tr>\n",
       "      <th>2829</th>\n",
       "      <td>2015-11-12</td>\n",
       "      <td>731.000000</td>\n",
       "      <td>737.799988</td>\n",
       "      <td>728.645020</td>\n",
       "      <td>731.229980</td>\n",
       "      <td>731.229980</td>\n",
       "      <td>1837200.0</td>\n",
       "    </tr>\n",
       "  </tbody>\n",
       "</table>\n",
       "</div>"
      ],
      "text/plain": [
       "            Date        Open        High         Low       Close   Adj Close  \\\n",
       "2833  2015-11-18  727.580017  741.409973  727.000000  740.000000  740.000000   \n",
       "2832  2015-11-17  729.289978  731.844971  723.026978  725.299988  725.299988   \n",
       "2831  2015-11-16  715.599976  729.489990  711.330017  728.960022  728.960022   \n",
       "2830  2015-11-13  729.169983  731.150024  716.729980  717.000000  717.000000   \n",
       "2829  2015-11-12  731.000000  737.799988  728.645020  731.229980  731.229980   \n",
       "\n",
       "         Volume  \n",
       "2833  1684300.0  \n",
       "2832  1510900.0  \n",
       "2831  1905900.0  \n",
       "2830  2075500.0  \n",
       "2829  1837200.0  "
      ]
     },
     "execution_count": 3,
     "metadata": {},
     "output_type": "execute_result"
    }
   ],
   "source": [
    "print len(dataset)\n",
    "print len(train_dataset)\n",
    "print len(test_dataset)\n",
    "train_dataset.head(5)"
   ]
  },
  {
   "cell_type": "code",
   "execution_count": 4,
   "metadata": {},
   "outputs": [
    {
     "data": {
      "text/html": [
       "<div>\n",
       "<style scoped>\n",
       "    .dataframe tbody tr th:only-of-type {\n",
       "        vertical-align: middle;\n",
       "    }\n",
       "\n",
       "    .dataframe tbody tr th {\n",
       "        vertical-align: top;\n",
       "    }\n",
       "\n",
       "    .dataframe thead th {\n",
       "        text-align: right;\n",
       "    }\n",
       "</style>\n",
       "<table border=\"1\" class=\"dataframe\">\n",
       "  <thead>\n",
       "    <tr style=\"text-align: right;\">\n",
       "      <th></th>\n",
       "      <th>count</th>\n",
       "      <th>mean</th>\n",
       "      <th>std</th>\n",
       "      <th>min</th>\n",
       "      <th>25%</th>\n",
       "      <th>50%</th>\n",
       "      <th>75%</th>\n",
       "      <th>max</th>\n",
       "    </tr>\n",
       "  </thead>\n",
       "  <tbody>\n",
       "    <tr>\n",
       "      <th>Open</th>\n",
       "      <td>2834.0</td>\n",
       "      <td>3.081928e+02</td>\n",
       "      <td>1.464132e+02</td>\n",
       "      <td>49.274517</td>\n",
       "      <td>2.116087e+02</td>\n",
       "      <td>2.717326e+02</td>\n",
       "      <td>3.774848e+02</td>\n",
       "      <td>7.324600e+02</td>\n",
       "    </tr>\n",
       "    <tr>\n",
       "      <th>High</th>\n",
       "      <td>2834.0</td>\n",
       "      <td>3.111213e+02</td>\n",
       "      <td>1.472027e+02</td>\n",
       "      <td>50.541279</td>\n",
       "      <td>2.136504e+02</td>\n",
       "      <td>2.747133e+02</td>\n",
       "      <td>3.803971e+02</td>\n",
       "      <td>7.414100e+02</td>\n",
       "    </tr>\n",
       "    <tr>\n",
       "      <th>Low</th>\n",
       "      <td>2834.0</td>\n",
       "      <td>3.049268e+02</td>\n",
       "      <td>1.453642e+02</td>\n",
       "      <td>47.669952</td>\n",
       "      <td>2.090156e+02</td>\n",
       "      <td>2.685956e+02</td>\n",
       "      <td>3.754058e+02</td>\n",
       "      <td>7.302300e+02</td>\n",
       "    </tr>\n",
       "    <tr>\n",
       "      <th>Adj Close</th>\n",
       "      <td>2834.0</td>\n",
       "      <td>3.080442e+02</td>\n",
       "      <td>1.463329e+02</td>\n",
       "      <td>49.681866</td>\n",
       "      <td>2.116199e+02</td>\n",
       "      <td>2.715414e+02</td>\n",
       "      <td>3.780859e+02</td>\n",
       "      <td>7.400000e+02</td>\n",
       "    </tr>\n",
       "    <tr>\n",
       "      <th>Volume</th>\n",
       "      <td>2834.0</td>\n",
       "      <td>9.110012e+06</td>\n",
       "      <td>8.626936e+06</td>\n",
       "      <td>7900.000000</td>\n",
       "      <td>3.862450e+06</td>\n",
       "      <td>6.274700e+06</td>\n",
       "      <td>1.188605e+07</td>\n",
       "      <td>8.276810e+07</td>\n",
       "    </tr>\n",
       "  </tbody>\n",
       "</table>\n",
       "</div>"
      ],
      "text/plain": [
       "            count          mean           std          min           25%  \\\n",
       "Open       2834.0  3.081928e+02  1.464132e+02    49.274517  2.116087e+02   \n",
       "High       2834.0  3.111213e+02  1.472027e+02    50.541279  2.136504e+02   \n",
       "Low        2834.0  3.049268e+02  1.453642e+02    47.669952  2.090156e+02   \n",
       "Adj Close  2834.0  3.080442e+02  1.463329e+02    49.681866  2.116199e+02   \n",
       "Volume     2834.0  9.110012e+06  8.626936e+06  7900.000000  3.862450e+06   \n",
       "\n",
       "                    50%           75%           max  \n",
       "Open       2.717326e+02  3.774848e+02  7.324600e+02  \n",
       "High       2.747133e+02  3.803971e+02  7.414100e+02  \n",
       "Low        2.685956e+02  3.754058e+02  7.302300e+02  \n",
       "Adj Close  2.715414e+02  3.780859e+02  7.400000e+02  \n",
       "Volume     6.274700e+06  1.188605e+07  8.276810e+07  "
      ]
     },
     "execution_count": 4,
     "metadata": {},
     "output_type": "execute_result"
    }
   ],
   "source": [
    "train_stats = train_dataset.describe()\n",
    "train_stats.pop(\"Close\")\n",
    "train_stats = train_stats.transpose()\n",
    "train_stats\n",
    "\n"
   ]
  },
  {
   "cell_type": "code",
   "execution_count": 86,
   "metadata": {
    "scrolled": false
   },
   "outputs": [],
   "source": [
    "# Create features (only close price for now)\n",
    "def convert_to_percentage(old, new):\n",
    "    return (old - new) / old\n",
    "\n",
    "def convert_to_train(raw_dataset):\n",
    "    dataset = raw_dataset.copy()\n",
    "    features = []\n",
    "    labels = []\n",
    "    for i in range(5, len(dataset) - 50):\n",
    "\n",
    "        feature_dataset = dataset[i:i+50].copy()\n",
    "        latest_close = feature_dataset['Close'].iloc[0]\n",
    "        \n",
    "        features.append(\n",
    "            feature_dataset['Close']\n",
    "                .map(lambda current: convert_to_percentage(latest_close, current))\n",
    "                .tolist()\n",
    "        )\n",
    "        labels.append([\n",
    "            dataset['Close'].iloc[i-1] / latest_close,\n",
    "            #dataset['Close'].iloc[i-5] / latest_close,\n",
    "        ])\n",
    "    return [features,labels]\n",
    "converted_feature_set = convert_to_train(dataset)\n",
    "\n",
    "#dset = test_dataset.sort_values(by=['Date'],ascending=False)[0:10]\n",
    "# for each date, calculate the percentage change of each value from the current close\n",
    "#dset['Close']"
   ]
  },
  {
   "cell_type": "code",
   "execution_count": 112,
   "metadata": {
    "scrolled": false
   },
   "outputs": [],
   "source": [
    "def build_model():\n",
    "  model = keras.Sequential([\n",
    "    layers.Dense(64, activation=tf.nn.relu, input_shape=[len(converted_feature_set[0][0])]),\n",
    "    layers.Dense(64, activation=tf.nn.relu),\n",
    "    layers.Dense(1)\n",
    "  ])\n",
    "\n",
    "  optimizer = tf.train.RMSPropOptimizer(0.001)\n",
    "\n",
    "  model.compile(loss='mse',\n",
    "                optimizer=optimizer,\n",
    "                metrics=['mae', 'mse','accuracy'])\n",
    "  return model"
   ]
  },
  {
   "cell_type": "code",
   "execution_count": 113,
   "metadata": {},
   "outputs": [
    {
     "name": "stdout",
     "output_type": "stream",
     "text": [
      "_________________________________________________________________\n",
      "Layer (type)                 Output Shape              Param #   \n",
      "=================================================================\n",
      "dense_42 (Dense)             (None, 64)                3264      \n",
      "_________________________________________________________________\n",
      "dense_43 (Dense)             (None, 64)                4160      \n",
      "_________________________________________________________________\n",
      "dense_44 (Dense)             (None, 1)                 65        \n",
      "=================================================================\n",
      "Total params: 7,489\n",
      "Trainable params: 7,489\n",
      "Non-trainable params: 0\n",
      "_________________________________________________________________\n"
     ]
    }
   ],
   "source": [
    "model = build_model()\n",
    "model.summary()"
   ]
  },
  {
   "cell_type": "code",
   "execution_count": 129,
   "metadata": {
    "scrolled": true
   },
   "outputs": [],
   "source": [
    "#len(converted_feature_set[0][0])\n",
    "train_data = np.array(converted_feature_set[0][900:])\n",
    "train_labels = np.array(converted_feature_set[1][900:])\n",
    "\n",
    "test_data = np.array(converted_feature_set[0][:900])\n",
    "test_labels = np.array(converted_feature_set[1][:900])\n",
    "history = model.fit(\n",
    "  train_data, train_labels,\n",
    "  epochs=500, validation_split = 0.2, verbose=0)"
   ]
  },
  {
   "cell_type": "code",
   "execution_count": 130,
   "metadata": {},
   "outputs": [
    {
     "data": {
      "image/png": "[encoded data removed]",
      "text/plain": [
       "<Figure size 432x288 with 1 Axes>"
      ]
     },
     "metadata": {
      "needs_background": "light"
     },
     "output_type": "display_data"
    },
    {
     "data": {
      "image/png": "[encoded data removed]",
      "text/plain": [
       "<Figure size 432x288 with 1 Axes>"
      ]
     },
     "metadata": {
      "needs_background": "light"
     },
     "output_type": "display_data"
    }
   ],
   "source": [
    "hist = pd.DataFrame(history.history)\n",
    "hist['epoch'] = history.epoch\n",
    "hist.tail()\n",
    "import matplotlib.pyplot as plt\n",
    "\n",
    "def plot_history(history):\n",
    "  plt.figure()\n",
    "  plt.xlabel('Epoch')\n",
    "  plt.ylabel('Mean Abs Error [MPG]')\n",
    "  plt.plot(hist['epoch'], hist['mean_absolute_error'],\n",
    "           label='Train Error')\n",
    "  plt.plot(hist['epoch'], hist['val_mean_absolute_error'],\n",
    "           label = 'Val Error')\n",
    "  plt.legend()\n",
    "  plt.ylim([0,5])\n",
    "  \n",
    "  plt.figure()\n",
    "  plt.xlabel('Epoch')\n",
    "  plt.ylabel('Mean Square Error [$MPG^2$]')\n",
    "  plt.plot(hist['epoch'], hist['mean_squared_error'],\n",
    "           label='Train Error')\n",
    "  plt.plot(hist['epoch'], hist['val_mean_squared_error'],\n",
    "           label = 'Val Error')\n",
    "  plt.legend()\n",
    "  plt.ylim([0,20])\n",
    "\n",
    "plot_history(history)\n"
   ]
  },
  {
   "cell_type": "code",
   "execution_count": 131,
   "metadata": {},
   "outputs": [
    {
     "data": {
      "text/plain": [
       "0.00021824973693583162"
      ]
     },
     "execution_count": 131,
     "metadata": {},
     "output_type": "execute_result"
    }
   ],
   "source": [
    "loss, mae, mse, accuracy = model.evaluate(test_data, test_labels, verbose=0)\n",
    "\n",
    "mse"
   ]
  },
  {
   "cell_type": "code",
   "execution_count": 132,
   "metadata": {},
   "outputs": [
    {
     "data": {
      "text/plain": [
       "0.010743256873554654"
      ]
     },
     "execution_count": 132,
     "metadata": {},
     "output_type": "execute_result"
    }
   ],
   "source": [
    "mae"
   ]
  },
  {
   "cell_type": "code",
   "execution_count": 133,
   "metadata": {},
   "outputs": [
    {
     "data": {
      "text/plain": [
       "0.00021824973693583162"
      ]
     },
     "execution_count": 133,
     "metadata": {},
     "output_type": "execute_result"
    }
   ],
   "source": [
    "mse"
   ]
  },
  {
   "cell_type": "code",
   "execution_count": 134,
   "metadata": {},
   "outputs": [
    {
     "data": {
      "text/plain": [
       "0.00021824973693583162"
      ]
     },
     "execution_count": 134,
     "metadata": {},
     "output_type": "execute_result"
    }
   ],
   "source": [
    "loss"
   ]
  },
  {
   "cell_type": "code",
   "execution_count": 135,
   "metadata": {},
   "outputs": [
    {
     "data": {
      "image/png": "[encoded data removed]",
      "text/plain": [
       "<Figure size 432x288 with 1 Axes>"
      ]
     },
     "metadata": {
      "needs_background": "light"
     },
     "output_type": "display_data"
    }
   ],
   "source": [
    "test_predictions = model.predict(test_data).flatten()\n",
    "\n",
    "plt.scatter(test_labels, test_predictions)\n",
    "plt.xlabel('True Values')\n",
    "plt.ylabel('Predictions [MPG]')\n",
    "plt.axis('equal')\n",
    "plt.axis('square')\n",
    "plt.xlim([0,plt.xlim()[1]])\n",
    "plt.ylim([0,plt.ylim()[1]])\n",
    "_ = plt.plot([-100, 100], [-100, 100])"
   ]
  },
  {
   "cell_type": "code",
   "execution_count": null,
   "metadata": {},
   "outputs": [],
   "source": [
    "error = test_predictions - test_labels\n",
    "plt.hist(error, bins = 25)\n",
    "plt.xlabel(\"Prediction Error\")\n",
    "_ = plt.ylabel(\"Count\")"
   ]
  },
  {
   "cell_type": "code",
   "execution_count": null,
   "metadata": {},
   "outputs": [],
   "source": []
  },
  {
   "cell_type": "code",
   "execution_count": null,
   "metadata": {},
   "outputs": [],
   "source": []
  },
  {
   "cell_type": "code",
   "execution_count": null,
   "metadata": {},
   "outputs": [],
   "source": []
  }
 ],
 "metadata": {
  "kernelspec": {
   "display_name": "Python 2",
   "language": "python",
   "name": "python2"
  },
  "language_info": {
   "codemirror_mode": {
    "name": "ipython",
    "version": 2
   },
   "file_extension": ".py",
   "mimetype": "text/x-python",
   "name": "python",
   "nbconvert_exporter": "python",
   "pygments_lexer": "ipython2",
   "version": "2.7.10"
  }
 },
 "nbformat": 4,
 "nbformat_minor": 2
}
